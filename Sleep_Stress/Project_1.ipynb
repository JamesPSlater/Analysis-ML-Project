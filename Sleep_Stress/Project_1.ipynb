{
  "cells": [
    {
      "cell_type": "markdown",
      "metadata": {
        "id": "b-MeKKMs55WA"
      },
      "source": [
        "# Practical Machine Learning \n",
        "### Project: Model Selection"
      ]
    },
    {
      "cell_type": "markdown",
      "metadata": {
        "id": "FEge15Hl55WD"
      },
      "source": [
        "# Abstract"
      ]
    },
    {
      "cell_type": "markdown",
      "metadata": {
        "id": "rmJJOdz955WE"
      },
      "source": [
        "# Part 1: Business and Data Understanding"
      ]
    },
    {
      "cell_type": "markdown",
      "metadata": {
        "id": "K_EWcKs255WG"
      },
      "source": [
        "### Q. Identify a suitable dataset for your canditate question(s)"
      ]
    },
    {
      "cell_type": "markdown",
      "metadata": {
        "id": "NA2qaEL155WH"
      },
      "source": [
        "Go have a look at any of these websites:\n",
        "\n",
        "* https://www.kaggle.com/datasets \n",
        "* https://datasetsearch.research.google.com/\n",
        "* https://data.gov.uk/\n",
        "\n",
        "Find an interesting looking data set related to your problem domain and get a copy of it\n"
      ]
    },
    {
      "cell_type": "code",
      "source": [
        "\n",
        "!pip install azureml-core\n",
        "!pip install azureml-dataprep"
      ],
      "metadata": {
        "colab": {
          "base_uri": "https://localhost:8080/"
        },
        "id": "URe6Pw7U3Atf",
        "outputId": "cbbf735e-0b50-45e7-827e-1ea5aa6a607c"
      },
      "execution_count": 1,
      "outputs": [
        {
          "output_type": "stream",
          "name": "stdout",
          "text": [
            "Requirement already satisfied: lazypredict in /usr/local/lib/python3.7/dist-packages (0.2.9)\n",
            "Requirement already satisfied: lightgbm==2.3.1 in /usr/local/lib/python3.7/dist-packages (from lazypredict) (2.3.1)\n",
            "Requirement already satisfied: scipy==1.5.4 in /usr/local/lib/python3.7/dist-packages (from lazypredict) (1.5.4)\n",
            "Requirement already satisfied: pandas==1.0.5 in /usr/local/lib/python3.7/dist-packages (from lazypredict) (1.0.5)\n",
            "Requirement already satisfied: numpy==1.19.1 in /usr/local/lib/python3.7/dist-packages (from lazypredict) (1.19.1)\n",
            "Requirement already satisfied: six==1.15.0 in /usr/local/lib/python3.7/dist-packages (from lazypredict) (1.15.0)\n",
            "Requirement already satisfied: PyYAML==5.3.1 in /usr/local/lib/python3.7/dist-packages (from lazypredict) (5.3.1)\n",
            "Requirement already satisfied: tqdm==4.56.0 in /usr/local/lib/python3.7/dist-packages (from lazypredict) (4.56.0)\n",
            "Requirement already satisfied: xgboost==1.1.1 in /usr/local/lib/python3.7/dist-packages (from lazypredict) (1.1.1)\n",
            "Requirement already satisfied: scikit-learn==0.23.1 in /usr/local/lib/python3.7/dist-packages (from lazypredict) (0.23.1)\n",
            "Requirement already satisfied: click==7.1.2 in /usr/local/lib/python3.7/dist-packages (from lazypredict) (7.1.2)\n",
            "Requirement already satisfied: pytest==5.4.3 in /usr/local/lib/python3.7/dist-packages (from lazypredict) (5.4.3)\n",
            "Requirement already satisfied: joblib==1.0.0 in /usr/local/lib/python3.7/dist-packages (from lazypredict) (1.0.0)\n",
            "Requirement already satisfied: python-dateutil>=2.6.1 in /usr/local/lib/python3.7/dist-packages (from pandas==1.0.5->lazypredict) (2.8.2)\n",
            "Requirement already satisfied: pytz>=2017.2 in /usr/local/lib/python3.7/dist-packages (from pandas==1.0.5->lazypredict) (2018.9)\n",
            "Requirement already satisfied: attrs>=17.4.0 in /usr/local/lib/python3.7/dist-packages (from pytest==5.4.3->lazypredict) (21.4.0)\n",
            "Requirement already satisfied: more-itertools>=4.0.0 in /usr/local/lib/python3.7/dist-packages (from pytest==5.4.3->lazypredict) (8.12.0)\n",
            "Requirement already satisfied: importlib-metadata>=0.12 in /usr/local/lib/python3.7/dist-packages (from pytest==5.4.3->lazypredict) (4.11.2)\n",
            "Requirement already satisfied: pluggy<1.0,>=0.12 in /usr/local/lib/python3.7/dist-packages (from pytest==5.4.3->lazypredict) (0.13.1)\n",
            "Requirement already satisfied: wcwidth in /usr/local/lib/python3.7/dist-packages (from pytest==5.4.3->lazypredict) (0.2.5)\n",
            "Requirement already satisfied: py>=1.5.0 in /usr/local/lib/python3.7/dist-packages (from pytest==5.4.3->lazypredict) (1.11.0)\n",
            "Requirement already satisfied: packaging in /usr/local/lib/python3.7/dist-packages (from pytest==5.4.3->lazypredict) (21.3)\n",
            "Requirement already satisfied: threadpoolctl>=2.0.0 in /usr/local/lib/python3.7/dist-packages (from scikit-learn==0.23.1->lazypredict) (3.1.0)\n",
            "Requirement already satisfied: typing-extensions>=3.6.4 in /usr/local/lib/python3.7/dist-packages (from importlib-metadata>=0.12->pytest==5.4.3->lazypredict) (3.10.0.2)\n",
            "Requirement already satisfied: zipp>=0.5 in /usr/local/lib/python3.7/dist-packages (from importlib-metadata>=0.12->pytest==5.4.3->lazypredict) (3.7.0)\n",
            "Requirement already satisfied: pyparsing!=3.0.5,>=2.0.2 in /usr/local/lib/python3.7/dist-packages (from packaging->pytest==5.4.3->lazypredict) (3.0.7)\n",
            "Requirement already satisfied: azureml-core in /usr/local/lib/python3.7/dist-packages (1.39.0)\n",
            "Requirement already satisfied: SecretStorage<4.0.0 in /usr/local/lib/python3.7/dist-packages (from azureml-core) (3.3.1)\n",
            "Requirement already satisfied: azure-mgmt-storage<20.0.0,>=16.0.0 in /usr/local/lib/python3.7/dist-packages (from azureml-core) (19.1.0)\n",
            "Requirement already satisfied: pathspec<1.0.0 in /usr/local/lib/python3.7/dist-packages (from azureml-core) (0.9.0)\n",
            "Requirement already satisfied: msal<2.0.0,>=1.15.0 in /usr/local/lib/python3.7/dist-packages (from azureml-core) (1.17.0)\n",
            "Requirement already satisfied: ndg-httpsclient<=0.5.1 in /usr/local/lib/python3.7/dist-packages (from azureml-core) (0.5.1)\n",
            "Requirement already satisfied: docker<6.0.0 in /usr/local/lib/python3.7/dist-packages (from azureml-core) (5.0.3)\n",
            "Requirement already satisfied: urllib3<=1.26.7,>=1.23 in /usr/local/lib/python3.7/dist-packages (from azureml-core) (1.24.3)\n",
            "Requirement already satisfied: PyJWT<3.0.0 in /usr/local/lib/python3.7/dist-packages (from azureml-core) (2.3.0)\n",
            "Requirement already satisfied: backports.tempfile in /usr/local/lib/python3.7/dist-packages (from azureml-core) (1.0)\n",
            "Requirement already satisfied: azure-mgmt-containerregistry<9.0.0,>=8.2.0 in /usr/local/lib/python3.7/dist-packages (from azureml-core) (8.2.0)\n",
            "Requirement already satisfied: pyopenssl<22.0.0 in /usr/local/lib/python3.7/dist-packages (from azureml-core) (21.0.0)\n",
            "Requirement already satisfied: paramiko<3.0.0,>=2.0.8 in /usr/local/lib/python3.7/dist-packages (from azureml-core) (2.10.2)\n",
            "Requirement already satisfied: humanfriendly<11.0,>=4.7 in /usr/local/lib/python3.7/dist-packages (from azureml-core) (10.0)\n",
            "Requirement already satisfied: azure-mgmt-keyvault<10.0.0,>=0.40.0 in /usr/local/lib/python3.7/dist-packages (from azureml-core) (9.3.0)\n",
            "Requirement already satisfied: requests[socks]<3.0.0,>=2.19.1 in /usr/local/lib/python3.7/dist-packages (from azureml-core) (2.23.0)\n",
            "Requirement already satisfied: adal<=1.2.7,>=1.2.0 in /usr/local/lib/python3.7/dist-packages (from azureml-core) (1.2.7)\n",
            "Requirement already satisfied: msal-extensions<0.4,>=0.3.0 in /usr/local/lib/python3.7/dist-packages (from azureml-core) (0.3.1)\n",
            "Requirement already satisfied: pytz in /usr/local/lib/python3.7/dist-packages (from azureml-core) (2018.9)\n",
            "Requirement already satisfied: jmespath<1.0.0 in /usr/local/lib/python3.7/dist-packages (from azureml-core) (0.10.0)\n",
            "Requirement already satisfied: pkginfo in /usr/local/lib/python3.7/dist-packages (from azureml-core) (1.8.2)\n",
            "Requirement already satisfied: msrest<1.0.0,>=0.5.1 in /usr/local/lib/python3.7/dist-packages (from azureml-core) (0.6.21)\n",
            "Requirement already satisfied: azure-common<2.0.0,>=1.1.12 in /usr/local/lib/python3.7/dist-packages (from azureml-core) (1.1.28)\n",
            "Requirement already satisfied: azure-core<1.22 in /usr/local/lib/python3.7/dist-packages (from azureml-core) (1.21.1)\n",
            "Requirement already satisfied: knack~=0.9.0 in /usr/local/lib/python3.7/dist-packages (from azureml-core) (0.9.0)\n",
            "Requirement already satisfied: azure-graphrbac<1.0.0,>=0.40.0 in /usr/local/lib/python3.7/dist-packages (from azureml-core) (0.61.1)\n",
            "Requirement already satisfied: packaging<22.0,>=20.0 in /usr/local/lib/python3.7/dist-packages (from azureml-core) (21.3)\n",
            "Requirement already satisfied: argcomplete<2.0 in /usr/local/lib/python3.7/dist-packages (from azureml-core) (1.12.3)\n",
            "Requirement already satisfied: msrestazure<=0.6.4,>=0.4.33 in /usr/local/lib/python3.7/dist-packages (from azureml-core) (0.6.4)\n",
            "Requirement already satisfied: contextlib2<22.0.0 in /usr/local/lib/python3.7/dist-packages (from azureml-core) (0.5.5)\n",
            "Requirement already satisfied: jsonpickle<3.0.0 in /usr/local/lib/python3.7/dist-packages (from azureml-core) (2.1.0)\n",
            "Requirement already satisfied: azure-mgmt-resource<21.0.0,>=15.0.0 in /usr/local/lib/python3.7/dist-packages (from azureml-core) (20.1.0)\n",
            "Requirement already satisfied: python-dateutil<3.0.0,>=2.7.3 in /usr/local/lib/python3.7/dist-packages (from azureml-core) (2.8.2)\n",
            "Requirement already satisfied: cryptography!=1.9,!=2.0.*,!=2.1.*,!=2.2.*,<37.0.0 in /usr/local/lib/python3.7/dist-packages (from azureml-core) (36.0.2)\n",
            "Requirement already satisfied: azure-mgmt-authorization<1.0.0,>=0.40.0 in /usr/local/lib/python3.7/dist-packages (from azureml-core) (0.61.0)\n",
            "Requirement already satisfied: importlib-metadata<5,>=0.23 in /usr/local/lib/python3.7/dist-packages (from argcomplete<2.0->azureml-core) (4.11.2)\n",
            "Requirement already satisfied: six>=1.11.0 in /usr/local/lib/python3.7/dist-packages (from azure-core<1.22->azureml-core) (1.15.0)\n",
            "Requirement already satisfied: azure-mgmt-core<2.0.0,>=1.2.0 in /usr/local/lib/python3.7/dist-packages (from azure-mgmt-containerregistry<9.0.0,>=8.2.0->azureml-core) (1.3.0)\n",
            "Requirement already satisfied: cffi>=1.12 in /usr/local/lib/python3.7/dist-packages (from cryptography!=1.9,!=2.0.*,!=2.1.*,!=2.2.*,<37.0.0->azureml-core) (1.15.0)\n",
            "Requirement already satisfied: pycparser in /usr/local/lib/python3.7/dist-packages (from cffi>=1.12->cryptography!=1.9,!=2.0.*,!=2.1.*,!=2.2.*,<37.0.0->azureml-core) (2.21)\n",
            "Requirement already satisfied: websocket-client>=0.32.0 in /usr/local/lib/python3.7/dist-packages (from docker<6.0.0->azureml-core) (1.3.1)\n",
            "Requirement already satisfied: typing-extensions>=3.6.4 in /usr/local/lib/python3.7/dist-packages (from importlib-metadata<5,>=0.23->argcomplete<2.0->azureml-core) (3.10.0.2)\n",
            "Requirement already satisfied: zipp>=0.5 in /usr/local/lib/python3.7/dist-packages (from importlib-metadata<5,>=0.23->argcomplete<2.0->azureml-core) (3.7.0)\n",
            "Requirement already satisfied: pygments in /usr/local/lib/python3.7/dist-packages (from knack~=0.9.0->azureml-core) (2.6.1)\n",
            "Requirement already satisfied: tabulate in /usr/local/lib/python3.7/dist-packages (from knack~=0.9.0->azureml-core) (0.8.9)\n",
            "Requirement already satisfied: pyyaml in /usr/local/lib/python3.7/dist-packages (from knack~=0.9.0->azureml-core) (5.3.1)\n",
            "Requirement already satisfied: portalocker<3,>=1.0 in /usr/local/lib/python3.7/dist-packages (from msal-extensions<0.4,>=0.3.0->azureml-core) (2.4.0)\n",
            "Requirement already satisfied: certifi>=2017.4.17 in /usr/local/lib/python3.7/dist-packages (from msrest<1.0.0,>=0.5.1->azureml-core) (2021.10.8)\n",
            "Requirement already satisfied: isodate>=0.6.0 in /usr/local/lib/python3.7/dist-packages (from msrest<1.0.0,>=0.5.1->azureml-core) (0.6.1)\n",
            "Requirement already satisfied: requests-oauthlib>=0.5.0 in /usr/local/lib/python3.7/dist-packages (from msrest<1.0.0,>=0.5.1->azureml-core) (1.3.1)\n",
            "Requirement already satisfied: pyasn1>=0.1.1 in /usr/local/lib/python3.7/dist-packages (from ndg-httpsclient<=0.5.1->azureml-core) (0.4.8)\n",
            "Requirement already satisfied: pyparsing!=3.0.5,>=2.0.2 in /usr/local/lib/python3.7/dist-packages (from packaging<22.0,>=20.0->azureml-core) (3.0.7)\n",
            "Requirement already satisfied: pynacl>=1.0.1 in /usr/local/lib/python3.7/dist-packages (from paramiko<3.0.0,>=2.0.8->azureml-core) (1.5.0)\n",
            "Requirement already satisfied: bcrypt>=3.1.3 in /usr/local/lib/python3.7/dist-packages (from paramiko<3.0.0,>=2.0.8->azureml-core) (3.2.0)\n",
            "Requirement already satisfied: idna<3,>=2.5 in /usr/local/lib/python3.7/dist-packages (from requests[socks]<3.0.0,>=2.19.1->azureml-core) (2.10)\n",
            "Requirement already satisfied: chardet<4,>=3.0.2 in /usr/local/lib/python3.7/dist-packages (from requests[socks]<3.0.0,>=2.19.1->azureml-core) (3.0.4)\n",
            "Requirement already satisfied: oauthlib>=3.0.0 in /usr/local/lib/python3.7/dist-packages (from requests-oauthlib>=0.5.0->msrest<1.0.0,>=0.5.1->azureml-core) (3.2.0)\n",
            "Requirement already satisfied: PySocks!=1.5.7,>=1.5.6 in /usr/local/lib/python3.7/dist-packages (from requests[socks]<3.0.0,>=2.19.1->azureml-core) (1.7.1)\n",
            "Requirement already satisfied: jeepney>=0.6 in /usr/local/lib/python3.7/dist-packages (from SecretStorage<4.0.0->azureml-core) (0.7.1)\n",
            "Requirement already satisfied: backports.weakref in /usr/local/lib/python3.7/dist-packages (from backports.tempfile->azureml-core) (1.0.post1)\n",
            "Requirement already satisfied: azureml-dataprep in /usr/local/lib/python3.7/dist-packages (2.27.1)\n",
            "Requirement already satisfied: dotnetcore2<3.0.0,>=2.1.14 in /usr/local/lib/python3.7/dist-packages (from azureml-dataprep) (2.1.23)\n",
            "Requirement already satisfied: azure-identity==1.7.0 in /usr/local/lib/python3.7/dist-packages (from azureml-dataprep) (1.7.0)\n",
            "Requirement already satisfied: azureml-dataprep-rslex~=2.3.0dev0 in /usr/local/lib/python3.7/dist-packages (from azureml-dataprep) (2.3.1)\n",
            "Requirement already satisfied: cloudpickle<3.0.0,>=1.1.0 in /usr/local/lib/python3.7/dist-packages (from azureml-dataprep) (1.3.0)\n",
            "Requirement already satisfied: azureml-dataprep-native<39.0.0,>=38.0.0 in /usr/local/lib/python3.7/dist-packages (from azureml-dataprep) (38.0.0)\n",
            "Requirement already satisfied: six>=1.12.0 in /usr/local/lib/python3.7/dist-packages (from azure-identity==1.7.0->azureml-dataprep) (1.15.0)\n",
            "Requirement already satisfied: msal<2.0.0,>=1.12.0 in /usr/local/lib/python3.7/dist-packages (from azure-identity==1.7.0->azureml-dataprep) (1.17.0)\n",
            "Requirement already satisfied: msal-extensions~=0.3.0 in /usr/local/lib/python3.7/dist-packages (from azure-identity==1.7.0->azureml-dataprep) (0.3.1)\n",
            "Requirement already satisfied: cryptography>=2.5 in /usr/local/lib/python3.7/dist-packages (from azure-identity==1.7.0->azureml-dataprep) (36.0.2)\n",
            "Requirement already satisfied: azure-core<2.0.0,>=1.11.0 in /usr/local/lib/python3.7/dist-packages (from azure-identity==1.7.0->azureml-dataprep) (1.21.1)\n",
            "Requirement already satisfied: requests>=2.18.4 in /usr/local/lib/python3.7/dist-packages (from azure-core<2.0.0,>=1.11.0->azure-identity==1.7.0->azureml-dataprep) (2.23.0)\n",
            "Requirement already satisfied: cffi>=1.12 in /usr/local/lib/python3.7/dist-packages (from cryptography>=2.5->azure-identity==1.7.0->azureml-dataprep) (1.15.0)\n",
            "Requirement already satisfied: pycparser in /usr/local/lib/python3.7/dist-packages (from cffi>=1.12->cryptography>=2.5->azure-identity==1.7.0->azureml-dataprep) (2.21)\n",
            "Requirement already satisfied: distro>=1.2.0 in /usr/local/lib/python3.7/dist-packages (from dotnetcore2<3.0.0,>=2.1.14->azureml-dataprep) (1.7.0)\n",
            "Requirement already satisfied: PyJWT[crypto]<3,>=1.0.0 in /usr/local/lib/python3.7/dist-packages (from msal<2.0.0,>=1.12.0->azure-identity==1.7.0->azureml-dataprep) (2.3.0)\n",
            "Requirement already satisfied: portalocker<3,>=1.0 in /usr/local/lib/python3.7/dist-packages (from msal-extensions~=0.3.0->azure-identity==1.7.0->azureml-dataprep) (2.4.0)\n",
            "Requirement already satisfied: chardet<4,>=3.0.2 in /usr/local/lib/python3.7/dist-packages (from requests>=2.18.4->azure-core<2.0.0,>=1.11.0->azure-identity==1.7.0->azureml-dataprep) (3.0.4)\n",
            "Requirement already satisfied: urllib3!=1.25.0,!=1.25.1,<1.26,>=1.21.1 in /usr/local/lib/python3.7/dist-packages (from requests>=2.18.4->azure-core<2.0.0,>=1.11.0->azure-identity==1.7.0->azureml-dataprep) (1.24.3)\n",
            "Requirement already satisfied: certifi>=2017.4.17 in /usr/local/lib/python3.7/dist-packages (from requests>=2.18.4->azure-core<2.0.0,>=1.11.0->azure-identity==1.7.0->azureml-dataprep) (2021.10.8)\n",
            "Requirement already satisfied: idna<3,>=2.5 in /usr/local/lib/python3.7/dist-packages (from requests>=2.18.4->azure-core<2.0.0,>=1.11.0->azure-identity==1.7.0->azureml-dataprep) (2.10)\n"
          ]
        }
      ]
    },
    {
      "cell_type": "code",
      "execution_count": 2,
      "metadata": {
        "id": "HuoWXO_Q55WH",
        "outputId": "8944b65c-63eb-47db-bec9-ff64766884dc",
        "colab": {
          "base_uri": "https://localhost:8080/"
        }
      },
      "outputs": [
        {
          "output_type": "stream",
          "name": "stderr",
          "text": [
            "/usr/local/lib/python3.7/dist-packages/sklearn/utils/deprecation.py:143: FutureWarning: The sklearn.utils.testing module is  deprecated in version 0.22 and will be removed in version 0.24. The corresponding classes / functions should instead be imported from sklearn.utils. Anything that cannot be imported from sklearn.utils is now part of the private API.\n",
            "  warnings.warn(message, FutureWarning)\n"
          ]
        }
      ],
      "source": [
        "import pandas as pd # data processing\n",
        "import numpy as np # maths\n",
        "# plotting libraries\n",
        "import matplotlib.pyplot as plt\n",
        "import seaborn as sns\n",
        "# ML libraries\n",
        "from sklearn.preprocessing import LabelEncoder\n",
        "from sklearn.model_selection import train_test_split\n",
        "from sklearn.metrics import confusion_matrix\n",
        "from sklearn.metrics import classification_report\n",
        "from sklearn.metrics import accuracy_score\n",
        "from sklearn.preprocessing import StandardScaler\n",
        "import joblib\n",
        "from scipy.stats import zscore\n",
        "\n",
        "# read data and .head()\n",
        "# ASSUME- data.csv from BCA (cancer analysis)\n",
        "\n"
      ]
    },
    {
      "cell_type": "code",
      "source": [
        "# azureml-core of version 1.0.72 or higher is required\n",
        "# azureml-dataprep[pandas] of version 1.1.34 or higher is required\n",
        "from azureml.core import Workspace, Dataset\n",
        "\n",
        "subscription_id = '4d82b630-5b80-4e5f-8acf-a1cfffeb47f7'\n",
        "resource_group = 'ML'\n",
        "workspace_name = 'mach1'\n",
        "\n",
        "workspace = Workspace(subscription_id, resource_group, workspace_name)\n",
        "\n",
        "dataset = Dataset.get_by_name(workspace, name='Sleep')\n",
        "data = dataset.to_pandas_dataframe()"
      ],
      "metadata": {
        "id": "73rK5lqXJ313"
      },
      "execution_count": 3,
      "outputs": []
    },
    {
      "cell_type": "code",
      "source": [
        "rndata = data.rename(columns = {'sr':'snoring rate', 'rr':'respiration rate',\n",
        "                        't':'body temperature', 'lm':'limb movement', \n",
        "                        'bo':'blood oxygen', 'rem':'eye movement', \n",
        "                        'sr.1':'sleeping hours','hr':'heart rate', \n",
        "                        'sl':'stress level'})\n",
        "rndata.head()"
      ],
      "metadata": {
        "id": "ySTMyXTAXulH",
        "outputId": "d58d3c14-f554-4561-e260-a8fdd7e7d6f2",
        "colab": {
          "base_uri": "https://localhost:8080/",
          "height": 206
        }
      },
      "execution_count": 4,
      "outputs": [
        {
          "output_type": "execute_result",
          "data": {
            "text/plain": [
              "   snoring rate  respiration rate  body temperature  limb movement  \\\n",
              "0         93.80             25.68             91.84          16.60   \n",
              "1         91.64             25.10             91.55          15.88   \n",
              "2         60.00             20.00             96.00          10.00   \n",
              "3         85.76             23.54             90.77          13.92   \n",
              "4         48.12             17.25             97.87           6.50   \n",
              "\n",
              "   blood oxygen  eye movement  sr_1  heart rate  stress level  \n",
              "0         89.84         99.60  1.84       74.20             3  \n",
              "1         89.55         98.88  1.55       72.76             3  \n",
              "2         95.00         85.00  7.00       60.00             1  \n",
              "3         88.77         96.92  0.77       68.84             3  \n",
              "4         96.25         72.48  8.25       53.12             0  "
            ],
            "text/html": [
              "\n",
              "  <div id=\"df-c0743d56-96da-40b7-a989-b68f477b77c9\">\n",
              "    <div class=\"colab-df-container\">\n",
              "      <div>\n",
              "<style scoped>\n",
              "    .dataframe tbody tr th:only-of-type {\n",
              "        vertical-align: middle;\n",
              "    }\n",
              "\n",
              "    .dataframe tbody tr th {\n",
              "        vertical-align: top;\n",
              "    }\n",
              "\n",
              "    .dataframe thead th {\n",
              "        text-align: right;\n",
              "    }\n",
              "</style>\n",
              "<table border=\"1\" class=\"dataframe\">\n",
              "  <thead>\n",
              "    <tr style=\"text-align: right;\">\n",
              "      <th></th>\n",
              "      <th>snoring rate</th>\n",
              "      <th>respiration rate</th>\n",
              "      <th>body temperature</th>\n",
              "      <th>limb movement</th>\n",
              "      <th>blood oxygen</th>\n",
              "      <th>eye movement</th>\n",
              "      <th>sr_1</th>\n",
              "      <th>heart rate</th>\n",
              "      <th>stress level</th>\n",
              "    </tr>\n",
              "  </thead>\n",
              "  <tbody>\n",
              "    <tr>\n",
              "      <th>0</th>\n",
              "      <td>93.80</td>\n",
              "      <td>25.68</td>\n",
              "      <td>91.84</td>\n",
              "      <td>16.60</td>\n",
              "      <td>89.84</td>\n",
              "      <td>99.60</td>\n",
              "      <td>1.84</td>\n",
              "      <td>74.20</td>\n",
              "      <td>3</td>\n",
              "    </tr>\n",
              "    <tr>\n",
              "      <th>1</th>\n",
              "      <td>91.64</td>\n",
              "      <td>25.10</td>\n",
              "      <td>91.55</td>\n",
              "      <td>15.88</td>\n",
              "      <td>89.55</td>\n",
              "      <td>98.88</td>\n",
              "      <td>1.55</td>\n",
              "      <td>72.76</td>\n",
              "      <td>3</td>\n",
              "    </tr>\n",
              "    <tr>\n",
              "      <th>2</th>\n",
              "      <td>60.00</td>\n",
              "      <td>20.00</td>\n",
              "      <td>96.00</td>\n",
              "      <td>10.00</td>\n",
              "      <td>95.00</td>\n",
              "      <td>85.00</td>\n",
              "      <td>7.00</td>\n",
              "      <td>60.00</td>\n",
              "      <td>1</td>\n",
              "    </tr>\n",
              "    <tr>\n",
              "      <th>3</th>\n",
              "      <td>85.76</td>\n",
              "      <td>23.54</td>\n",
              "      <td>90.77</td>\n",
              "      <td>13.92</td>\n",
              "      <td>88.77</td>\n",
              "      <td>96.92</td>\n",
              "      <td>0.77</td>\n",
              "      <td>68.84</td>\n",
              "      <td>3</td>\n",
              "    </tr>\n",
              "    <tr>\n",
              "      <th>4</th>\n",
              "      <td>48.12</td>\n",
              "      <td>17.25</td>\n",
              "      <td>97.87</td>\n",
              "      <td>6.50</td>\n",
              "      <td>96.25</td>\n",
              "      <td>72.48</td>\n",
              "      <td>8.25</td>\n",
              "      <td>53.12</td>\n",
              "      <td>0</td>\n",
              "    </tr>\n",
              "  </tbody>\n",
              "</table>\n",
              "</div>\n",
              "      <button class=\"colab-df-convert\" onclick=\"convertToInteractive('df-c0743d56-96da-40b7-a989-b68f477b77c9')\"\n",
              "              title=\"Convert this dataframe to an interactive table.\"\n",
              "              style=\"display:none;\">\n",
              "        \n",
              "  <svg xmlns=\"http://www.w3.org/2000/svg\" height=\"24px\"viewBox=\"0 0 24 24\"\n",
              "       width=\"24px\">\n",
              "    <path d=\"M0 0h24v24H0V0z\" fill=\"none\"/>\n",
              "    <path d=\"M18.56 5.44l.94 2.06.94-2.06 2.06-.94-2.06-.94-.94-2.06-.94 2.06-2.06.94zm-11 1L8.5 8.5l.94-2.06 2.06-.94-2.06-.94L8.5 2.5l-.94 2.06-2.06.94zm10 10l.94 2.06.94-2.06 2.06-.94-2.06-.94-.94-2.06-.94 2.06-2.06.94z\"/><path d=\"M17.41 7.96l-1.37-1.37c-.4-.4-.92-.59-1.43-.59-.52 0-1.04.2-1.43.59L10.3 9.45l-7.72 7.72c-.78.78-.78 2.05 0 2.83L4 21.41c.39.39.9.59 1.41.59.51 0 1.02-.2 1.41-.59l7.78-7.78 2.81-2.81c.8-.78.8-2.07 0-2.86zM5.41 20L4 18.59l7.72-7.72 1.47 1.35L5.41 20z\"/>\n",
              "  </svg>\n",
              "      </button>\n",
              "      \n",
              "  <style>\n",
              "    .colab-df-container {\n",
              "      display:flex;\n",
              "      flex-wrap:wrap;\n",
              "      gap: 12px;\n",
              "    }\n",
              "\n",
              "    .colab-df-convert {\n",
              "      background-color: #E8F0FE;\n",
              "      border: none;\n",
              "      border-radius: 50%;\n",
              "      cursor: pointer;\n",
              "      display: none;\n",
              "      fill: #1967D2;\n",
              "      height: 32px;\n",
              "      padding: 0 0 0 0;\n",
              "      width: 32px;\n",
              "    }\n",
              "\n",
              "    .colab-df-convert:hover {\n",
              "      background-color: #E2EBFA;\n",
              "      box-shadow: 0px 1px 2px rgba(60, 64, 67, 0.3), 0px 1px 3px 1px rgba(60, 64, 67, 0.15);\n",
              "      fill: #174EA6;\n",
              "    }\n",
              "\n",
              "    [theme=dark] .colab-df-convert {\n",
              "      background-color: #3B4455;\n",
              "      fill: #D2E3FC;\n",
              "    }\n",
              "\n",
              "    [theme=dark] .colab-df-convert:hover {\n",
              "      background-color: #434B5C;\n",
              "      box-shadow: 0px 1px 3px 1px rgba(0, 0, 0, 0.15);\n",
              "      filter: drop-shadow(0px 1px 2px rgba(0, 0, 0, 0.3));\n",
              "      fill: #FFFFFF;\n",
              "    }\n",
              "  </style>\n",
              "\n",
              "      <script>\n",
              "        const buttonEl =\n",
              "          document.querySelector('#df-c0743d56-96da-40b7-a989-b68f477b77c9 button.colab-df-convert');\n",
              "        buttonEl.style.display =\n",
              "          google.colab.kernel.accessAllowed ? 'block' : 'none';\n",
              "\n",
              "        async function convertToInteractive(key) {\n",
              "          const element = document.querySelector('#df-c0743d56-96da-40b7-a989-b68f477b77c9');\n",
              "          const dataTable =\n",
              "            await google.colab.kernel.invokeFunction('convertToInteractive',\n",
              "                                                     [key], {});\n",
              "          if (!dataTable) return;\n",
              "\n",
              "          const docLinkHtml = 'Like what you see? Visit the ' +\n",
              "            '<a target=\"_blank\" href=https://colab.research.google.com/notebooks/data_table.ipynb>data table notebook</a>'\n",
              "            + ' to learn more about interactive tables.';\n",
              "          element.innerHTML = '';\n",
              "          dataTable['output_type'] = 'display_data';\n",
              "          await google.colab.output.renderOutput(dataTable, element);\n",
              "          const docLink = document.createElement('div');\n",
              "          docLink.innerHTML = docLinkHtml;\n",
              "          element.appendChild(docLink);\n",
              "        }\n",
              "      </script>\n",
              "    </div>\n",
              "  </div>\n",
              "  "
            ]
          },
          "metadata": {},
          "execution_count": 4
        }
      ]
    },
    {
      "cell_type": "markdown",
      "metadata": {
        "id": "t6sxB-Op55WF"
      },
      "source": [
        "### Q. Define the problem domain"
      ]
    },
    {
      "cell_type": "code",
      "execution_count": 5,
      "metadata": {
        "id": "KGICUusQ55WF"
      },
      "outputs": [],
      "source": [
        "# Smart-Yoga Pillow (SaYoPillow) is proposed to help in understanding the relationship between stress and sleep and to fully materialize the idea of “Smart-Sleeping” by proposing an edge device. \n",
        "\n",
        "# Detecting stress levels -> Relationship to sleep\n",
        "\n",
        "\n",
        "# ENGLISH not Python\n",
        "# Diagnosis is an ideal label column because it is the result\n",
        "# useful for a doctor to speed up the diagnosis process. "
      ]
    },
    {
      "cell_type": "markdown",
      "metadata": {
        "id": "PasUNESl55WG"
      },
      "source": [
        "### Q. Identify candidate questions for your machine learning project"
      ]
    },
    {
      "cell_type": "code",
      "execution_count": 6,
      "metadata": {
        "id": "MgdRmrtq55WG",
        "outputId": "2823308c-9a91-403b-b618-2587e09f66fd",
        "colab": {
          "base_uri": "https://localhost:8080/"
        }
      },
      "outputs": [
        {
          "output_type": "execute_result",
          "data": {
            "text/plain": [
              "4    126\n",
              "3    126\n",
              "2    126\n",
              "1    126\n",
              "0    126\n",
              "Name: stress level, dtype: int64"
            ]
          },
          "metadata": {},
          "execution_count": 6
        }
      ],
      "source": [
        "# value_counts\n",
        "# discrete or continuous numbers\n",
        "# what is label, what columns should be evaluated to become \n",
        "# features, Dimensions, Variables\n",
        "# \n",
        "# can i use the dataset as-is or does it need cleaning?\n",
        "\n",
        "# rndata.info()\n",
        "#0: 'low/normal', 1: 'medium low', 2: 'medium', 3: 'medium high', 4: 'high'})\n",
        "rndata['stress level'].value_counts()"
      ]
    },
    {
      "cell_type": "markdown",
      "metadata": {
        "id": "zsCo6Gmf55WH"
      },
      "source": [
        "### Q. Generate a descriptive statistics report for the columns in your dataset"
      ]
    },
    {
      "cell_type": "code",
      "execution_count": 7,
      "metadata": {
        "id": "1uvJKQH755WH",
        "outputId": "6e82ec9f-a092-42bd-8f96-dabfa6659874",
        "colab": {
          "base_uri": "https://localhost:8080/",
          "height": 331
        }
      },
      "outputs": [
        {
          "output_type": "execute_result",
          "data": {
            "text/plain": [
              "                  count  mean   std   min   25%   50%   75%    max\n",
              "snoring rate     630.00 71.60 19.37 45.00 52.50 70.00 91.25 100.00\n",
              "respiration rate 630.00 21.80  3.97 16.00 18.50 21.00 25.00  30.00\n",
              "body temperature 630.00 92.80  3.53 85.00 90.50 93.00 95.50  99.00\n",
              "limb movement    630.00 11.70  4.30  4.00  8.50 11.00 15.75  19.00\n",
              "blood oxygen     630.00 90.90  3.90 82.00 88.50 91.00 94.25  97.00\n",
              "eye movement     630.00 88.50 11.89 60.00 81.25 90.00 98.75 105.00\n",
              "sr_1             630.00  3.70  3.05  0.00  0.50  3.50  6.50   9.00\n",
              "heart rate       630.00 64.50  9.92 50.00 56.25 62.50 72.50  85.00\n",
              "stress level     630.00  2.00  1.42  0.00  1.00  2.00  3.00   4.00"
            ],
            "text/html": [
              "\n",
              "  <div id=\"df-e1229aaf-2ac3-4835-a8fc-df1c82f7bfc5\">\n",
              "    <div class=\"colab-df-container\">\n",
              "      <div>\n",
              "<style scoped>\n",
              "    .dataframe tbody tr th:only-of-type {\n",
              "        vertical-align: middle;\n",
              "    }\n",
              "\n",
              "    .dataframe tbody tr th {\n",
              "        vertical-align: top;\n",
              "    }\n",
              "\n",
              "    .dataframe thead th {\n",
              "        text-align: right;\n",
              "    }\n",
              "</style>\n",
              "<table border=\"1\" class=\"dataframe\">\n",
              "  <thead>\n",
              "    <tr style=\"text-align: right;\">\n",
              "      <th></th>\n",
              "      <th>count</th>\n",
              "      <th>mean</th>\n",
              "      <th>std</th>\n",
              "      <th>min</th>\n",
              "      <th>25%</th>\n",
              "      <th>50%</th>\n",
              "      <th>75%</th>\n",
              "      <th>max</th>\n",
              "    </tr>\n",
              "  </thead>\n",
              "  <tbody>\n",
              "    <tr>\n",
              "      <th>snoring rate</th>\n",
              "      <td>630.00</td>\n",
              "      <td>71.60</td>\n",
              "      <td>19.37</td>\n",
              "      <td>45.00</td>\n",
              "      <td>52.50</td>\n",
              "      <td>70.00</td>\n",
              "      <td>91.25</td>\n",
              "      <td>100.00</td>\n",
              "    </tr>\n",
              "    <tr>\n",
              "      <th>respiration rate</th>\n",
              "      <td>630.00</td>\n",
              "      <td>21.80</td>\n",
              "      <td>3.97</td>\n",
              "      <td>16.00</td>\n",
              "      <td>18.50</td>\n",
              "      <td>21.00</td>\n",
              "      <td>25.00</td>\n",
              "      <td>30.00</td>\n",
              "    </tr>\n",
              "    <tr>\n",
              "      <th>body temperature</th>\n",
              "      <td>630.00</td>\n",
              "      <td>92.80</td>\n",
              "      <td>3.53</td>\n",
              "      <td>85.00</td>\n",
              "      <td>90.50</td>\n",
              "      <td>93.00</td>\n",
              "      <td>95.50</td>\n",
              "      <td>99.00</td>\n",
              "    </tr>\n",
              "    <tr>\n",
              "      <th>limb movement</th>\n",
              "      <td>630.00</td>\n",
              "      <td>11.70</td>\n",
              "      <td>4.30</td>\n",
              "      <td>4.00</td>\n",
              "      <td>8.50</td>\n",
              "      <td>11.00</td>\n",
              "      <td>15.75</td>\n",
              "      <td>19.00</td>\n",
              "    </tr>\n",
              "    <tr>\n",
              "      <th>blood oxygen</th>\n",
              "      <td>630.00</td>\n",
              "      <td>90.90</td>\n",
              "      <td>3.90</td>\n",
              "      <td>82.00</td>\n",
              "      <td>88.50</td>\n",
              "      <td>91.00</td>\n",
              "      <td>94.25</td>\n",
              "      <td>97.00</td>\n",
              "    </tr>\n",
              "    <tr>\n",
              "      <th>eye movement</th>\n",
              "      <td>630.00</td>\n",
              "      <td>88.50</td>\n",
              "      <td>11.89</td>\n",
              "      <td>60.00</td>\n",
              "      <td>81.25</td>\n",
              "      <td>90.00</td>\n",
              "      <td>98.75</td>\n",
              "      <td>105.00</td>\n",
              "    </tr>\n",
              "    <tr>\n",
              "      <th>sr_1</th>\n",
              "      <td>630.00</td>\n",
              "      <td>3.70</td>\n",
              "      <td>3.05</td>\n",
              "      <td>0.00</td>\n",
              "      <td>0.50</td>\n",
              "      <td>3.50</td>\n",
              "      <td>6.50</td>\n",
              "      <td>9.00</td>\n",
              "    </tr>\n",
              "    <tr>\n",
              "      <th>heart rate</th>\n",
              "      <td>630.00</td>\n",
              "      <td>64.50</td>\n",
              "      <td>9.92</td>\n",
              "      <td>50.00</td>\n",
              "      <td>56.25</td>\n",
              "      <td>62.50</td>\n",
              "      <td>72.50</td>\n",
              "      <td>85.00</td>\n",
              "    </tr>\n",
              "    <tr>\n",
              "      <th>stress level</th>\n",
              "      <td>630.00</td>\n",
              "      <td>2.00</td>\n",
              "      <td>1.42</td>\n",
              "      <td>0.00</td>\n",
              "      <td>1.00</td>\n",
              "      <td>2.00</td>\n",
              "      <td>3.00</td>\n",
              "      <td>4.00</td>\n",
              "    </tr>\n",
              "  </tbody>\n",
              "</table>\n",
              "</div>\n",
              "      <button class=\"colab-df-convert\" onclick=\"convertToInteractive('df-e1229aaf-2ac3-4835-a8fc-df1c82f7bfc5')\"\n",
              "              title=\"Convert this dataframe to an interactive table.\"\n",
              "              style=\"display:none;\">\n",
              "        \n",
              "  <svg xmlns=\"http://www.w3.org/2000/svg\" height=\"24px\"viewBox=\"0 0 24 24\"\n",
              "       width=\"24px\">\n",
              "    <path d=\"M0 0h24v24H0V0z\" fill=\"none\"/>\n",
              "    <path d=\"M18.56 5.44l.94 2.06.94-2.06 2.06-.94-2.06-.94-.94-2.06-.94 2.06-2.06.94zm-11 1L8.5 8.5l.94-2.06 2.06-.94-2.06-.94L8.5 2.5l-.94 2.06-2.06.94zm10 10l.94 2.06.94-2.06 2.06-.94-2.06-.94-.94-2.06-.94 2.06-2.06.94z\"/><path d=\"M17.41 7.96l-1.37-1.37c-.4-.4-.92-.59-1.43-.59-.52 0-1.04.2-1.43.59L10.3 9.45l-7.72 7.72c-.78.78-.78 2.05 0 2.83L4 21.41c.39.39.9.59 1.41.59.51 0 1.02-.2 1.41-.59l7.78-7.78 2.81-2.81c.8-.78.8-2.07 0-2.86zM5.41 20L4 18.59l7.72-7.72 1.47 1.35L5.41 20z\"/>\n",
              "  </svg>\n",
              "      </button>\n",
              "      \n",
              "  <style>\n",
              "    .colab-df-container {\n",
              "      display:flex;\n",
              "      flex-wrap:wrap;\n",
              "      gap: 12px;\n",
              "    }\n",
              "\n",
              "    .colab-df-convert {\n",
              "      background-color: #E8F0FE;\n",
              "      border: none;\n",
              "      border-radius: 50%;\n",
              "      cursor: pointer;\n",
              "      display: none;\n",
              "      fill: #1967D2;\n",
              "      height: 32px;\n",
              "      padding: 0 0 0 0;\n",
              "      width: 32px;\n",
              "    }\n",
              "\n",
              "    .colab-df-convert:hover {\n",
              "      background-color: #E2EBFA;\n",
              "      box-shadow: 0px 1px 2px rgba(60, 64, 67, 0.3), 0px 1px 3px 1px rgba(60, 64, 67, 0.15);\n",
              "      fill: #174EA6;\n",
              "    }\n",
              "\n",
              "    [theme=dark] .colab-df-convert {\n",
              "      background-color: #3B4455;\n",
              "      fill: #D2E3FC;\n",
              "    }\n",
              "\n",
              "    [theme=dark] .colab-df-convert:hover {\n",
              "      background-color: #434B5C;\n",
              "      box-shadow: 0px 1px 3px 1px rgba(0, 0, 0, 0.15);\n",
              "      filter: drop-shadow(0px 1px 2px rgba(0, 0, 0, 0.3));\n",
              "      fill: #FFFFFF;\n",
              "    }\n",
              "  </style>\n",
              "\n",
              "      <script>\n",
              "        const buttonEl =\n",
              "          document.querySelector('#df-e1229aaf-2ac3-4835-a8fc-df1c82f7bfc5 button.colab-df-convert');\n",
              "        buttonEl.style.display =\n",
              "          google.colab.kernel.accessAllowed ? 'block' : 'none';\n",
              "\n",
              "        async function convertToInteractive(key) {\n",
              "          const element = document.querySelector('#df-e1229aaf-2ac3-4835-a8fc-df1c82f7bfc5');\n",
              "          const dataTable =\n",
              "            await google.colab.kernel.invokeFunction('convertToInteractive',\n",
              "                                                     [key], {});\n",
              "          if (!dataTable) return;\n",
              "\n",
              "          const docLinkHtml = 'Like what you see? Visit the ' +\n",
              "            '<a target=\"_blank\" href=https://colab.research.google.com/notebooks/data_table.ipynb>data table notebook</a>'\n",
              "            + ' to learn more about interactive tables.';\n",
              "          element.innerHTML = '';\n",
              "          dataTable['output_type'] = 'display_data';\n",
              "          await google.colab.output.renderOutput(dataTable, element);\n",
              "          const docLink = document.createElement('div');\n",
              "          docLink.innerHTML = docLinkHtml;\n",
              "          element.appendChild(docLink);\n",
              "        }\n",
              "      </script>\n",
              "    </div>\n",
              "  </div>\n",
              "  "
            ]
          },
          "metadata": {},
          "execution_count": 7
        }
      ],
      "source": [
        "# data.describe().T\n",
        "\n",
        "rndata.describe().T"
      ]
    },
    {
      "cell_type": "markdown",
      "metadata": {
        "id": "toYhhJ4v55WI"
      },
      "source": [
        "# Part 2: Data Preparation"
      ]
    },
    {
      "cell_type": "markdown",
      "metadata": {
        "id": "zUDh9O2T55WI"
      },
      "source": [
        "### Q. Discuss the following types of missing data and how they would be handled in reference to your dataset where applicable.\n",
        "*\tMissing completely at random (MCAR)\n",
        "*\tMissing at random (MAR)\n",
        "*\tMissing Not at Random (MNAR)"
      ]
    },
    {
      "cell_type": "code",
      "execution_count": 62,
      "metadata": {
        "id": "u0IiUxwR55WI",
        "outputId": "72fc5683-2788-4cc7-acc1-1db2059f156c",
        "colab": {
          "base_uri": "https://localhost:8080/"
        }
      },
      "outputs": [
        {
          "output_type": "stream",
          "name": "stdout",
          "text": [
            "<class 'pandas.core.frame.DataFrame'>\n",
            "RangeIndex: 630 entries, 0 to 629\n",
            "Data columns (total 7 columns):\n",
            " #   Column            Non-Null Count  Dtype  \n",
            "---  ------            --------------  -----  \n",
            " 0   snoring rate      630 non-null    float64\n",
            " 1   body temperature  630 non-null    float64\n",
            " 2   limb movement     630 non-null    float64\n",
            " 3   eye movement      630 non-null    float64\n",
            " 4   sr_1              630 non-null    float64\n",
            " 5   heart rate        630 non-null    float64\n",
            " 6   stress level      630 non-null    int64  \n",
            "dtypes: float64(6), int64(1)\n",
            "memory usage: 34.6 KB\n"
          ]
        }
      ],
      "source": [
        "rndata.info()\n",
        "#Dataset was complete with no missing values.\n",
        "#If values were missing could drop rows/columns or fill using mean()/median()/mode()"
      ]
    },
    {
      "cell_type": "markdown",
      "source": [
        "Q. Is there any correlation in the data? How would you decide which columns to keep?"
      ],
      "metadata": {
        "id": "Z-_eDG2e_C2W"
      }
    },
    {
      "cell_type": "code",
      "source": [
        "# sns.heatmap(rndata)\n",
        "dataplot = sns.heatmap(rndata.corr(), cmap=\"YlGnBu\", annot=True)\n",
        "# SEABORN and data.corr() to plot a heatmap\n",
        "# Github-> DFE6\n"
      ],
      "metadata": {
        "id": "_eRjAQ6u_CHm",
        "outputId": "7c13be8f-a970-4acb-d829-febb011d2863",
        "colab": {
          "base_uri": "https://localhost:8080/",
          "height": 349
        }
      },
      "execution_count": 9,
      "outputs": [
        {
          "output_type": "display_data",
          "data": {
            "text/plain": [
              "<Figure size 432x288 with 2 Axes>"
            ],
            "image/png": "[encoded data removed]"
          },
          "metadata": {
            "needs_background": "light"
          }
        }
      ]
    },
    {
      "cell_type": "code",
      "source": [
        "rndata.drop(['respiration rate', 'blood oxygen'], axis=1, inplace=True)"
      ],
      "metadata": {
        "id": "1zfKK3UJ6QV8"
      },
      "execution_count": 10,
      "outputs": []
    },
    {
      "cell_type": "code",
      "source": [
        "rndata.head()"
      ],
      "metadata": {
        "colab": {
          "base_uri": "https://localhost:8080/",
          "height": 206
        },
        "id": "3gFQfxcu6QPB",
        "outputId": "76c3d94b-08ed-4070-d4b8-7836691b6314"
      },
      "execution_count": 11,
      "outputs": [
        {
          "output_type": "execute_result",
          "data": {
            "text/plain": [
              "   snoring rate  body temperature  limb movement  eye movement  sr_1  \\\n",
              "0         93.80             91.84          16.60         99.60  1.84   \n",
              "1         91.64             91.55          15.88         98.88  1.55   \n",
              "2         60.00             96.00          10.00         85.00  7.00   \n",
              "3         85.76             90.77          13.92         96.92  0.77   \n",
              "4         48.12             97.87           6.50         72.48  8.25   \n",
              "\n",
              "   heart rate  stress level  \n",
              "0       74.20             3  \n",
              "1       72.76             3  \n",
              "2       60.00             1  \n",
              "3       68.84             3  \n",
              "4       53.12             0  "
            ],
            "text/html": [
              "\n",
              "  <div id=\"df-28306381-df2c-40fd-8485-278099b51c2d\">\n",
              "    <div class=\"colab-df-container\">\n",
              "      <div>\n",
              "<style scoped>\n",
              "    .dataframe tbody tr th:only-of-type {\n",
              "        vertical-align: middle;\n",
              "    }\n",
              "\n",
              "    .dataframe tbody tr th {\n",
              "        vertical-align: top;\n",
              "    }\n",
              "\n",
              "    .dataframe thead th {\n",
              "        text-align: right;\n",
              "    }\n",
              "</style>\n",
              "<table border=\"1\" class=\"dataframe\">\n",
              "  <thead>\n",
              "    <tr style=\"text-align: right;\">\n",
              "      <th></th>\n",
              "      <th>snoring rate</th>\n",
              "      <th>body temperature</th>\n",
              "      <th>limb movement</th>\n",
              "      <th>eye movement</th>\n",
              "      <th>sr_1</th>\n",
              "      <th>heart rate</th>\n",
              "      <th>stress level</th>\n",
              "    </tr>\n",
              "  </thead>\n",
              "  <tbody>\n",
              "    <tr>\n",
              "      <th>0</th>\n",
              "      <td>93.80</td>\n",
              "      <td>91.84</td>\n",
              "      <td>16.60</td>\n",
              "      <td>99.60</td>\n",
              "      <td>1.84</td>\n",
              "      <td>74.20</td>\n",
              "      <td>3</td>\n",
              "    </tr>\n",
              "    <tr>\n",
              "      <th>1</th>\n",
              "      <td>91.64</td>\n",
              "      <td>91.55</td>\n",
              "      <td>15.88</td>\n",
              "      <td>98.88</td>\n",
              "      <td>1.55</td>\n",
              "      <td>72.76</td>\n",
              "      <td>3</td>\n",
              "    </tr>\n",
              "    <tr>\n",
              "      <th>2</th>\n",
              "      <td>60.00</td>\n",
              "      <td>96.00</td>\n",
              "      <td>10.00</td>\n",
              "      <td>85.00</td>\n",
              "      <td>7.00</td>\n",
              "      <td>60.00</td>\n",
              "      <td>1</td>\n",
              "    </tr>\n",
              "    <tr>\n",
              "      <th>3</th>\n",
              "      <td>85.76</td>\n",
              "      <td>90.77</td>\n",
              "      <td>13.92</td>\n",
              "      <td>96.92</td>\n",
              "      <td>0.77</td>\n",
              "      <td>68.84</td>\n",
              "      <td>3</td>\n",
              "    </tr>\n",
              "    <tr>\n",
              "      <th>4</th>\n",
              "      <td>48.12</td>\n",
              "      <td>97.87</td>\n",
              "      <td>6.50</td>\n",
              "      <td>72.48</td>\n",
              "      <td>8.25</td>\n",
              "      <td>53.12</td>\n",
              "      <td>0</td>\n",
              "    </tr>\n",
              "  </tbody>\n",
              "</table>\n",
              "</div>\n",
              "      <button class=\"colab-df-convert\" onclick=\"convertToInteractive('df-28306381-df2c-40fd-8485-278099b51c2d')\"\n",
              "              title=\"Convert this dataframe to an interactive table.\"\n",
              "              style=\"display:none;\">\n",
              "        \n",
              "  <svg xmlns=\"http://www.w3.org/2000/svg\" height=\"24px\"viewBox=\"0 0 24 24\"\n",
              "       width=\"24px\">\n",
              "    <path d=\"M0 0h24v24H0V0z\" fill=\"none\"/>\n",
              "    <path d=\"M18.56 5.44l.94 2.06.94-2.06 2.06-.94-2.06-.94-.94-2.06-.94 2.06-2.06.94zm-11 1L8.5 8.5l.94-2.06 2.06-.94-2.06-.94L8.5 2.5l-.94 2.06-2.06.94zm10 10l.94 2.06.94-2.06 2.06-.94-2.06-.94-.94-2.06-.94 2.06-2.06.94z\"/><path d=\"M17.41 7.96l-1.37-1.37c-.4-.4-.92-.59-1.43-.59-.52 0-1.04.2-1.43.59L10.3 9.45l-7.72 7.72c-.78.78-.78 2.05 0 2.83L4 21.41c.39.39.9.59 1.41.59.51 0 1.02-.2 1.41-.59l7.78-7.78 2.81-2.81c.8-.78.8-2.07 0-2.86zM5.41 20L4 18.59l7.72-7.72 1.47 1.35L5.41 20z\"/>\n",
              "  </svg>\n",
              "      </button>\n",
              "      \n",
              "  <style>\n",
              "    .colab-df-container {\n",
              "      display:flex;\n",
              "      flex-wrap:wrap;\n",
              "      gap: 12px;\n",
              "    }\n",
              "\n",
              "    .colab-df-convert {\n",
              "      background-color: #E8F0FE;\n",
              "      border: none;\n",
              "      border-radius: 50%;\n",
              "      cursor: pointer;\n",
              "      display: none;\n",
              "      fill: #1967D2;\n",
              "      height: 32px;\n",
              "      padding: 0 0 0 0;\n",
              "      width: 32px;\n",
              "    }\n",
              "\n",
              "    .colab-df-convert:hover {\n",
              "      background-color: #E2EBFA;\n",
              "      box-shadow: 0px 1px 2px rgba(60, 64, 67, 0.3), 0px 1px 3px 1px rgba(60, 64, 67, 0.15);\n",
              "      fill: #174EA6;\n",
              "    }\n",
              "\n",
              "    [theme=dark] .colab-df-convert {\n",
              "      background-color: #3B4455;\n",
              "      fill: #D2E3FC;\n",
              "    }\n",
              "\n",
              "    [theme=dark] .colab-df-convert:hover {\n",
              "      background-color: #434B5C;\n",
              "      box-shadow: 0px 1px 3px 1px rgba(0, 0, 0, 0.15);\n",
              "      filter: drop-shadow(0px 1px 2px rgba(0, 0, 0, 0.3));\n",
              "      fill: #FFFFFF;\n",
              "    }\n",
              "  </style>\n",
              "\n",
              "      <script>\n",
              "        const buttonEl =\n",
              "          document.querySelector('#df-28306381-df2c-40fd-8485-278099b51c2d button.colab-df-convert');\n",
              "        buttonEl.style.display =\n",
              "          google.colab.kernel.accessAllowed ? 'block' : 'none';\n",
              "\n",
              "        async function convertToInteractive(key) {\n",
              "          const element = document.querySelector('#df-28306381-df2c-40fd-8485-278099b51c2d');\n",
              "          const dataTable =\n",
              "            await google.colab.kernel.invokeFunction('convertToInteractive',\n",
              "                                                     [key], {});\n",
              "          if (!dataTable) return;\n",
              "\n",
              "          const docLinkHtml = 'Like what you see? Visit the ' +\n",
              "            '<a target=\"_blank\" href=https://colab.research.google.com/notebooks/data_table.ipynb>data table notebook</a>'\n",
              "            + ' to learn more about interactive tables.';\n",
              "          element.innerHTML = '';\n",
              "          dataTable['output_type'] = 'display_data';\n",
              "          await google.colab.output.renderOutput(dataTable, element);\n",
              "          const docLink = document.createElement('div');\n",
              "          docLink.innerHTML = docLinkHtml;\n",
              "          element.appendChild(docLink);\n",
              "        }\n",
              "      </script>\n",
              "    </div>\n",
              "  </div>\n",
              "  "
            ]
          },
          "metadata": {},
          "execution_count": 11
        }
      ]
    },
    {
      "cell_type": "markdown",
      "source": [
        "Q. Is there any imbalance in the label\n",
        "?"
      ],
      "metadata": {
        "id": "EUIqah7h_LAW"
      }
    },
    {
      "cell_type": "code",
      "source": [
        "# LABEL COLUMN-> Y/value you want to predict\n",
        "# diagnosis column from bca\n",
        "\n",
        "# Cat = 100, Parrot= 50, Ant= 5\n",
        "# either no action action required or just del extra rows!\n",
        "\n",
        "# if one class is less than quarter of the other class,\n",
        "# the data is imbalanced!\n",
        "#\n",
        "# Regression- NO ACTION REQUIRED. \n",
        "# Classification (LABEL/Y) - Diagnosis\n",
        "# 1) Del some of the rows of the larger dataset \n",
        "# 2) OR generate FAKE/SIMULATED data \n",
        "# 3) Ignore if you want to take a leap of faith in the model\n",
        "\n",
        "rndata['stress level'].value_counts()"
      ],
      "metadata": {
        "id": "puZaHYIU_Pif",
        "outputId": "a96ec4b7-6ee1-42da-e7d6-e31afb146f8c",
        "colab": {
          "base_uri": "https://localhost:8080/"
        }
      },
      "execution_count": 12,
      "outputs": [
        {
          "output_type": "execute_result",
          "data": {
            "text/plain": [
              "4    126\n",
              "3    126\n",
              "2    126\n",
              "1    126\n",
              "0    126\n",
              "Name: stress level, dtype: int64"
            ]
          },
          "metadata": {},
          "execution_count": 12
        }
      ]
    },
    {
      "cell_type": "markdown",
      "source": [
        "Q. Are there any outliers in the dataset? What do you do with them?"
      ],
      "metadata": {
        "id": "v9gQBGnZ_QiC"
      }
    },
    {
      "cell_type": "code",
      "source": [
        "# OPTIONAL\n",
        "# Z-Score\n",
        "# check for values >3 and <-3\n",
        "# What do i do with them?\n",
        "# 1) Remove them \n",
        "# 2) replace all >3 with max, <-3 with min\n",
        "# 3) Ignore\n",
        "zdata = rndata.apply(zscore)\n",
        "ax = sns.boxplot(data=zdata, orient=\"h\", palette=\"Set2\")\n",
        "# Detecting Frauds, Anomalies "
      ],
      "metadata": {
        "id": "qKUVWPJq_fTq",
        "outputId": "fa3f1167-3e28-417d-cc50-75f44395f069",
        "colab": {
          "base_uri": "https://localhost:8080/",
          "height": 265
        }
      },
      "execution_count": 13,
      "outputs": [
        {
          "output_type": "display_data",
          "data": {
            "text/plain": [
              "<Figure size 432x288 with 1 Axes>"
            ],
            "image/png": "[encoded data removed]"
          },
          "metadata": {
            "needs_background": "light"
          }
        }
      ]
    },
    {
      "cell_type": "markdown",
      "source": [
        "Q. Are there any strings in the features that need to be converted to integers? Do you select One-Hot encoding or Label Encoding?"
      ],
      "metadata": {
        "id": "v3SRFiXRAzzu"
      }
    },
    {
      "cell_type": "code",
      "source": [
        "# if you are not sure, do label ENCODING\n",
        "# unique_values = data['diagnosis'].value_counts()\n",
        "# Form a dictionary of the unique values!\n",
        "# encoding_funk = lambda x : dictionary[x]\n",
        "# data['my_string_column'] = data['my_string_column'].apply(encoding_funk)"
      ],
      "metadata": {
        "id": "feWeqNtzOTWv"
      },
      "execution_count": 14,
      "outputs": []
    },
    {
      "cell_type": "code",
      "source": [
        "#Had the choice to use words however decided to keep to numerical values for ML purposes.\n",
        "# rndata['stress level'] = rndata['stress level'].replace({0:'low/normal',1:'medium low' , 2: 'medium', 3:'medium high', 4:'high'})"
      ],
      "metadata": {
        "id": "IBBNzn-8o6dz"
      },
      "execution_count": 15,
      "outputs": []
    },
    {
      "cell_type": "code",
      "source": [
        ""
      ],
      "metadata": {
        "id": "3qLuwfTDAzbf"
      },
      "execution_count": 16,
      "outputs": []
    },
    {
      "cell_type": "markdown",
      "source": [
        "Q. Split the data for TRAINING and SCORING (testing). OPTIONAL: Discuss what problems could happen we have poor distribution b/w training and testing?"
      ],
      "metadata": {
        "id": "TxPO0Ch5Pv3F"
      }
    },
    {
      "cell_type": "code",
      "source": [
        "# from sklearn.model_selection import train_test_split\n",
        "# xtrain,xtest,ytrain,ytest = train_test_split(x, y,\n",
        "#                             test_size=0.2, random_state=42)\n",
        "y = rndata['stress level']\n",
        "x = rndata.drop('stress level', axis = 1)\n",
        "\n",
        "xtrain,xtest,ytrain,ytest = train_test_split(x, y, test_size=0.5, random_state=42)\n",
        "print(y.shape)\n",
        "print(x.shape)"
      ],
      "metadata": {
        "id": "W1XMipDDMiCG",
        "colab": {
          "base_uri": "https://localhost:8080/"
        },
        "outputId": "f61481f3-d7e4-4429-89bd-0a224745e920"
      },
      "execution_count": 48,
      "outputs": [
        {
          "output_type": "stream",
          "name": "stdout",
          "text": [
            "(630,)\n",
            "(630, 6)\n"
          ]
        }
      ]
    },
    {
      "cell_type": "markdown",
      "metadata": {
        "id": "s5jKhdFd55WJ"
      },
      "source": [
        "# Part 3: Model Selection"
      ]
    },
    {
      "cell_type": "markdown",
      "metadata": {
        "id": "bosw1yWg55WJ"
      },
      "source": [
        "### Q. Use the cheat sheet below to choose the algorithm/estimator suitable for building a model to address your candidate question(s)\n",
        "\n",
        "* https://scikit-learn.org/stable/tutorial/machine_learning_map/"
      ]
    },
    {
      "cell_type": "code",
      "source": [
        "from sklearn.metrics import accuracy_score\n",
        "from sklearn.metrics import f1_score\n",
        "\n",
        "# Models\n",
        "from sklearn.ensemble import RandomForestClassifier\n",
        "from sklearn.naive_bayes import GaussianNB\n",
        "from sklearn.tree import DecisionTreeClassifier\n",
        "from sklearn.neighbors import KNeighborsClassifier\n",
        "from sklearn.svm import LinearSVC\n",
        "from xgboost import XGBClassifier\n",
        "from lightgbm import LGBMClassifier"
      ],
      "metadata": {
        "id": "_Xtlx4cBUe5c"
      },
      "execution_count": 55,
      "outputs": []
    },
    {
      "cell_type": "code",
      "source": [
        "for algo in [RandomForestClassifier(), GaussianNB(), DecisionTreeClassifier(), KNeighborsClassifier(), LinearSVC(), XGBClassifier(), LGBMClassifier()]:\n",
        "  model = algo\n",
        "  model.fit(xtrain, ytrain)\n",
        "  predictions = model.predict(xtest)\n",
        "  print(accuracy_score(ytest, predictions))\n",
        "  # print(f1_score(ytest, predictions))\n",
        "  print('***')"
      ],
      "metadata": {
        "colab": {
          "base_uri": "https://localhost:8080/"
        },
        "id": "1ElrDP8hUfjT",
        "outputId": "1b61b498-d282-428e-a091-6f873b4cbcbe"
      },
      "execution_count": 56,
      "outputs": [
        {
          "output_type": "stream",
          "name": "stdout",
          "text": [
            "0.9873015873015873\n",
            "***\n",
            "1.0\n",
            "***\n",
            "0.9936507936507937\n",
            "***\n",
            "1.0\n",
            "***\n",
            "0.8984126984126984\n",
            "***\n",
            "0.9841269841269841\n",
            "***\n",
            "0.9873015873015873\n",
            "***\n"
          ]
        }
      ]
    },
    {
      "cell_type": "markdown",
      "metadata": {
        "id": "gB-pblb255WJ"
      },
      "source": [
        "# Part 4: Model Evaluation"
      ]
    },
    {
      "cell_type": "markdown",
      "metadata": {
        "id": "w231rWpm55WK"
      },
      "source": [
        "### Q. Identify which of the statistical measures below are suitable for the evaluation of your model.\n",
        "\n",
        "Classification Metrics:\n",
        "* Accuracy\n",
        "* Precision\n",
        "* Recall\n",
        "* F1 Score\n",
        "\n",
        "Regression Metrics:\n",
        "    \n",
        "* Mean absolute error (MAE)\n",
        "* Root mean squared error (RMSE)\n",
        "* Relative absolute error (RAE)\n",
        "* Relative squared error (RSE)\n",
        "* Mean Zero One Error (MZOE)\n",
        "* Coefficient of determination\n",
        "\n",
        " "
      ]
    },
    {
      "cell_type": "code",
      "source": [
        "for algo in [RandomForestClassifier(), GaussianNB(), DecisionTreeClassifier(), KNeighborsClassifier(), LinearSVC(), XGBClassifier(), LGBMClassifier()]:\n",
        "  model = algo\n",
        "  model.fit(xtrain, ytrain)\n",
        "  predictions = model.predict(xtest)\n",
        "  print(accuracy_score(ytest, predictions))\n",
        "  # print(f1_score(ytest, predictions))\n",
        "  print('***')"
      ],
      "metadata": {
        "colab": {
          "base_uri": "https://localhost:8080/"
        },
        "id": "163g8fVNOIZ-",
        "outputId": "41154ab3-b393-4a1c-ab49-4c06bdffd920"
      },
      "execution_count": 57,
      "outputs": [
        {
          "output_type": "stream",
          "name": "stdout",
          "text": [
            "0.9904761904761905\n",
            "***\n",
            "1.0\n",
            "***\n",
            "0.9873015873015873\n",
            "***\n",
            "1.0\n",
            "***\n",
            "0.7968253968253968\n",
            "***\n",
            "0.9841269841269841\n",
            "***\n",
            "0.9873015873015873\n",
            "***\n"
          ]
        }
      ]
    },
    {
      "cell_type": "code",
      "execution_count": null,
      "metadata": {
        "id": "MKlEwnam55WK"
      },
      "outputs": [],
      "source": [
        ""
      ]
    },
    {
      "cell_type": "markdown",
      "metadata": {
        "id": "V_GR5s4K55WK"
      },
      "source": [
        "# Part 5: Stretch - Model Deployment"
      ]
    },
    {
      "cell_type": "code",
      "source": [
        ""
      ],
      "metadata": {
        "id": "DvE2nSS5U554"
      },
      "execution_count": null,
      "outputs": []
    },
    {
      "cell_type": "markdown",
      "metadata": {
        "id": "0g_JJnoh55WL"
      },
      "source": [
        "### Q. Evaluate the open-source app framework for Machine Learning model deployment below in your own time.\n",
        "\n",
        "* https://streamlit.io/"
      ]
    },
    {
      "cell_type": "code",
      "execution_count": null,
      "metadata": {
        "id": "ghIEovDv55WL"
      },
      "outputs": [],
      "source": [
        "# EXPORT your model and upload to azure\n",
        "# deploy to Azure Container Instance\n",
        "# after 20-30 mins, consume tab will appear in your ENDPOINT\n",
        "# and then paste the PYTHON code below!"
      ]
    },
    {
      "cell_type": "code",
      "source": [
        "joblib.dump(GaussianNB(), 'my_model.pkl', compress=9)"
      ],
      "metadata": {
        "id": "mS9l7kc09sse",
        "outputId": "4e736b15-80c5-41b4-8140-fe40532d4a3c",
        "colab": {
          "base_uri": "https://localhost:8080/"
        }
      },
      "execution_count": 58,
      "outputs": [
        {
          "output_type": "execute_result",
          "data": {
            "text/plain": [
              "['my_model.pkl']"
            ]
          },
          "metadata": {},
          "execution_count": 58
        }
      ]
    },
    {
      "cell_type": "code",
      "source": [
        "import sklearn\n",
        "print('The scikit-learn version is {}.'.format(sklearn.__version__))\n"
      ],
      "metadata": {
        "id": "EsY8mUbBrh_A",
        "colab": {
          "base_uri": "https://localhost:8080/"
        },
        "outputId": "e404e7f8-f69b-4aaf-d80d-a5ead6ff9879"
      },
      "execution_count": 61,
      "outputs": [
        {
          "output_type": "stream",
          "name": "stdout",
          "text": [
            "The scikit-learn version is 0.23.1.\n"
          ]
        }
      ]
    },
    {
      "cell_type": "code",
      "source": [
        "import urllib.request\n",
        "import json\n",
        "import os\n",
        "import ssl\n",
        "\n",
        "def allowSelfSignedHttps(allowed):\n",
        "    # bypass the server certificate verification on client side\n",
        "    if allowed and not os.environ.get('PYTHONHTTPSVERIFY', '') and getattr(ssl, '_create_unverified_context', None):\n",
        "        ssl._create_default_https_context = ssl._create_unverified_context\n",
        "\n",
        "allowSelfSignedHttps(True) # this line is needed if you use self-signed certificate in your scoring service.\n",
        "\n",
        "# Request data goes here\n",
        "data = {\n",
        "}\n",
        "\n",
        "body = str.encode(json.dumps(data))\n",
        "\n",
        "url = 'http://556aed82-7bd6-4e78-993c-a7b2ade33bc0.eastus.azurecontainer.io/score'\n",
        "api_key = '' # Replace this with the API key for the web service\n",
        "headers = {'Content-Type':'application/json', 'Authorization':('Bearer '+ api_key)}\n",
        "\n",
        "req = urllib.request.Request(url, body, headers)\n",
        "\n",
        "try:\n",
        "    response = urllib.request.urlopen(req)\n",
        "\n",
        "    result = response.read()\n",
        "    print(result)\n",
        "except urllib.error.HTTPError as error:\n",
        "    print(\"The request failed with status code: \" + str(error.code))\n",
        "\n",
        "    # Print the headers - they include the requert ID and the timestamp, which are useful for debugging the failure\n",
        "    print(error.info())\n",
        "    print(error.read().decode(\"utf8\", 'ignore'))"
      ],
      "metadata": {
        "colab": {
          "base_uri": "https://localhost:8080/"
        },
        "id": "_4buEsXCLl0-",
        "outputId": "8d602503-5861-4fe1-ef1e-54f20885cdfb"
      },
      "execution_count": 63,
      "outputs": [
        {
          "output_type": "stream",
          "name": "stdout",
          "text": [
            "The request failed with status code: 400\n",
            "Content-Length: 66\n",
            "Content-Type: application/json\n",
            "Date: Thu, 17 Mar 2022 15:00:03 GMT\n",
            "Server: nginx/1.14.0 (Ubuntu)\n",
            "X-Ms-Request-Id: 6d551f1c-4a52-44b0-a194-225453ba83f8\n",
            "X-Ms-Run-Fn-Exec-Ms: 0.361\n",
            "X-Ms-Run-Function-Failed: False\n",
            "Connection: close\n",
            "\n",
            "\n",
            "{\"status_code\": 400, \"message\": \"Missing parameter in body: data\"}\n"
          ]
        }
      ]
    },
    {
      "cell_type": "code",
      "source": [
        ""
      ],
      "metadata": {
        "id": "GagleTMFZJQe"
      },
      "execution_count": null,
      "outputs": []
    }
  ],
  "metadata": {
    "kernelspec": {
      "display_name": "Python 3",
      "language": "python",
      "name": "python3"
    },
    "language_info": {
      "codemirror_mode": {
        "name": "ipython",
        "version": 3
      },
      "file_extension": ".py",
      "mimetype": "text/x-python",
      "name": "python",
      "nbconvert_exporter": "python",
      "pygments_lexer": "ipython3",
      "version": "3.7.4"
    },
    "colab": {
      "name": "Project 1.ipynb",
      "provenance": [],
      "collapsed_sections": []
    }
  },
  "nbformat": 4,
  "nbformat_minor": 0
}